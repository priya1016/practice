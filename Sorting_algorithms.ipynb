{
 "cells": [
  {
   "cell_type": "code",
   "execution_count": 3,
   "id": "7370b145",
   "metadata": {},
   "outputs": [],
   "source": [
    "import numpy as np\n",
    "import pandas as pd"
   ]
  },
  {
   "cell_type": "code",
   "execution_count": 4,
   "id": "7638af23",
   "metadata": {},
   "outputs": [],
   "source": [
    "a = [1,3,6,3,5,6,7,3,4,9,1,4,7]"
   ]
  },
  {
   "cell_type": "markdown",
   "id": "39ccc35b",
   "metadata": {},
   "source": [
    "## Merge Sort (nlogn)"
   ]
  },
  {
   "cell_type": "markdown",
   "id": "0393ffb5",
   "metadata": {},
   "source": [
    "#### Merge Sort is a Divide and Conquer algorithm. It divides the input array into two halves, calls itself for the two halves, and then merges the two sorted halves. The merge() function is used for merging two halves. The merge(arr, l, m, r) is a key process that assumes that arr[l..m] and arr[m+1..r] are sorted and merges the two sorted sub-arrays into one. "
   ]
  },
  {
   "cell_type": "code",
   "execution_count": 38,
   "id": "75cc4510",
   "metadata": {},
   "outputs": [
    {
     "data": {
      "text/plain": [
       "[1, 1, 3, 3, 3, 4, 4, 5, 6, 6, 7, 7, 9]"
      ]
     },
     "execution_count": 38,
     "metadata": {},
     "output_type": "execute_result"
    }
   ],
   "source": [
    "def merge_sort(arr):\n",
    "    \n",
    "    new_arr = arr.copy()\n",
    "    if len(new_arr) >1:\n",
    "        \n",
    "        mid = len(new_arr)//2\n",
    "\n",
    "        left  = new_arr[:mid]\n",
    "        right = new_arr[mid:]\n",
    "\n",
    "        left  = merge_sort(left)\n",
    "        right = merge_sort(right)\n",
    "\n",
    "        i = j = k = 0\n",
    "\n",
    "        \n",
    "        while i < len(left) and j < len(right):\n",
    "            if left[i] < right[j]:\n",
    "                new_arr[k] = left[i]\n",
    "                i+=1\n",
    "            else:\n",
    "                new_arr[k] = right[j]\n",
    "                j+=1\n",
    "            k+=1\n",
    "\n",
    "        # check if any element is left    \n",
    "        while i < len(left):\n",
    "            new_arr[k] = left[i]\n",
    "            i += 1\n",
    "            k += 1\n",
    "\n",
    "        # check if any element is left\n",
    "        while j < len(right):\n",
    "            new_arr[k] = right[j]\n",
    "            j += 1\n",
    "            k += 1\n",
    "    \n",
    "    return new_arr    \n",
    "    \n",
    "merge_sort(a)"
   ]
  },
  {
   "cell_type": "markdown",
   "id": "bf090542",
   "metadata": {},
   "source": [
    "## Bubble Sort"
   ]
  },
  {
   "cell_type": "markdown",
   "id": "22ae2b68",
   "metadata": {},
   "source": [
    "#### worst case complexity = n^2\n",
    "#### Bubble Sort is the simplest sorting algorithm that works by repeatedly swapping the adjacent elements if they are in wrong order."
   ]
  },
  {
   "cell_type": "code",
   "execution_count": 36,
   "id": "387da3ee",
   "metadata": {},
   "outputs": [
    {
     "data": {
      "text/plain": [
       "[1, 1, 3, 3, 3, 4, 4, 5, 6, 6, 7, 7, 9]"
      ]
     },
     "execution_count": 36,
     "metadata": {},
     "output_type": "execute_result"
    }
   ],
   "source": [
    "def bubble_sort(arr):\n",
    "    \n",
    "    count_swaps = 1    \n",
    "    new_arr = arr.copy()\n",
    "    while count_swaps > 0:\n",
    "        count_swaps = 0\n",
    "        for i in list(range(len(arr)-1)):\n",
    "            if new_arr[i] > new_arr[i+1]:\n",
    "                new_arr[i],new_arr[i+1] = new_arr[i+1],new_arr[i]\n",
    "                count_swaps += 1\n",
    "    return new_arr\n",
    "\n",
    "bubble_sort(a)"
   ]
  },
  {
   "cell_type": "markdown",
   "id": "75d612cb",
   "metadata": {},
   "source": [
    "## Insertion Sort (n^2)"
   ]
  },
  {
   "cell_type": "code",
   "execution_count": 40,
   "id": "e242f0c7",
   "metadata": {},
   "outputs": [
    {
     "data": {
      "text/plain": [
       "[1, 1, 3, 3, 3, 4, 4, 5, 6, 6, 7, 7, 9]"
      ]
     },
     "execution_count": 40,
     "metadata": {},
     "output_type": "execute_result"
    }
   ],
   "source": [
    "def insertion_sort(arr):\n",
    "    \n",
    "    new_arr = arr.copy()\n",
    "    for i in list(range(1,len(new_arr))):\n",
    "        key = new_arr[i]\n",
    "        \n",
    "        j = i-1\n",
    "        \n",
    "        while j>=0 and new_arr[j] > key:\n",
    "            new_arr[j+1] = new_arr[j]\n",
    "            j = j-1\n",
    "            \n",
    "        new_arr[j+1] = key\n",
    "        \n",
    "    return new_arr\n",
    "\n",
    "insertion_sort(a)"
   ]
  },
  {
   "cell_type": "markdown",
   "id": "ff2e4dad",
   "metadata": {},
   "source": [
    "## Binary Insertion Sort"
   ]
  },
  {
   "cell_type": "markdown",
   "id": "e114ed25",
   "metadata": {},
   "source": [
    "#### Binary Insertion Sort uses binary search to find the proper location to insert the selected item at each iteration. In normal insertion sort, it takes O(n) comparisons (at nth iteration) in the worst case. We can reduce it to O(log n) by using binary search."
   ]
  },
  {
   "cell_type": "code",
   "execution_count": null,
   "id": "65e79dc5",
   "metadata": {},
   "outputs": [],
   "source": []
  },
  {
   "cell_type": "markdown",
   "id": "e6d892b5",
   "metadata": {},
   "source": [
    "## Quick Sort"
   ]
  },
  {
   "cell_type": "markdown",
   "id": "51a27194",
   "metadata": {},
   "source": [
    "#### https://www.geeksforgeeks.org/quick-sort/?ref=lbp"
   ]
  },
  {
   "cell_type": "code",
   "execution_count": null,
   "id": "c93a395a",
   "metadata": {},
   "outputs": [],
   "source": [
    "\n",
    "def partition(start, end, array):\n",
    "    \n",
    "    \n",
    "    pivot_index = start \n",
    "    pivot = array[pivot_index]\n",
    "    \n",
    "    # This loop runs till start pointer crosses \n",
    "    # end pointer, and when it does we swap the\n",
    "    # pivot with element on end pointer\n",
    "    while start < end:\n",
    "        \n",
    "        # Increment the start pointer till it finds an \n",
    "        # element greater than  pivot \n",
    "        while start < len(array) and array[start] <= pivot:\n",
    "            start += 1\n",
    "            \n",
    "        # Decrement the end pointer till it finds an \n",
    "        # element less than pivot\n",
    "        while array[end] > pivot:\n",
    "            end -= 1\n",
    "        \n",
    "        # If start and end have not crossed each other, \n",
    "        # swap the numbers on start and end\n",
    "        if(start < end):\n",
    "            array[start], array[end] = array[end], array[start]\n",
    "    \n",
    "    # Swap pivot element with element on end pointer.\n",
    "    # This puts pivot on its correct sorted place.\n",
    "    array[end], array[pivot_index] = array[pivot_index], array[end]\n",
    "   \n",
    "    # Returning end pointer to divide the array into 2\n",
    "    return end\n",
    "    \n",
    "# The main function that implements QuickSort \n",
    "def quick_sort(start, end, array):\n",
    "    \n",
    "    if (start < end):\n",
    "        \n",
    "        # p is partitioning index, array[p] \n",
    "        # is at right place\n",
    "        p = partition(start, end, array)\n",
    "        \n",
    "        # Sort elements before partition \n",
    "        # and after partition\n",
    "        quick_sort(start, p - 1, array)\n",
    "        quick_sort(p + 1, end, array)\n"
   ]
  },
  {
   "cell_type": "markdown",
   "id": "50fcd156",
   "metadata": {},
   "source": [
    "## Heap Sort"
   ]
  },
  {
   "cell_type": "code",
   "execution_count": null,
   "id": "66193760",
   "metadata": {},
   "outputs": [],
   "source": [
    "def heapify_try(arr):\n",
    "    \n",
    "    new_arr = arr.copy()\n",
    "    \n",
    "    root = new_arr[0]\n",
    "    \n",
    "    largest = max(root, new_arr[2*0+1])\n",
    "    \n",
    "    if root!=largest:\n",
    "        new_arr[0],new_arr[2*0+1] = new_arr[2*0+1],new_arr[0]"
   ]
  },
  {
   "cell_type": "code",
   "execution_count": 1,
   "id": "7116ecb3",
   "metadata": {},
   "outputs": [],
   "source": [
    "# Python program for implementation of heap Sort\n",
    "\n",
    "# To heapify subtree rooted at index i.\n",
    "# n is size of heap\n",
    "\n",
    "\n",
    "def heapify(arr, n, i):\n",
    "    largest = i  # Initialize largest as root\n",
    "    l = 2 * i + 1     # left = 2*i + 1\n",
    "    r = 2 * i + 2     # right = 2*i + 2\n",
    "\n",
    "    # See if left child of root exists and is\n",
    "    # greater than root\n",
    "    if l < n and arr[largest] < arr[l]:\n",
    "        largest = l\n",
    "\n",
    "    # See if right child of root exists and is\n",
    "    # greater than root\n",
    "    if r < n and arr[largest] < arr[r]:\n",
    "        largest = r\n",
    "\n",
    "    # Change root, if needed\n",
    "    if largest != i:\n",
    "        arr[i], arr[largest] = arr[largest], arr[i]  # swap\n",
    "\n",
    "        # Heapify the root.\n",
    "        heapify(arr, n, largest)\n",
    "\n",
    "# The main function to sort an array of given size\n",
    "\n",
    "\n",
    "def heapSort(arr):\n",
    "    n = len(arr)\n",
    "\n",
    "    # Build a maxheap.\n",
    "    for i in range(n//2 - 1, -1, -1): # number of levels in tree = n//2 - 1\n",
    "        print(arr, n, i)\n",
    "        heapify(arr, n, i)\n",
    "\n",
    "    # One by one extract elements\n",
    "    for i in range(n-1, 0, -1):\n",
    "        arr[i], arr[0] = arr[0], arr[i]  # swap\n",
    "        heapify(arr, i, 0)\n"
   ]
  },
  {
   "cell_type": "code",
   "execution_count": 6,
   "id": "745ee1cf",
   "metadata": {},
   "outputs": [
    {
     "name": "stdout",
     "output_type": "stream",
     "text": [
      "[1, 1, 3, 3, 3, 4, 4, 5, 6, 6, 7, 7, 9] 13 5\n",
      "[1, 1, 3, 3, 3, 9, 4, 5, 6, 6, 7, 7, 4] 13 4\n",
      "[1, 1, 3, 3, 7, 9, 4, 5, 6, 6, 3, 7, 4] 13 3\n",
      "[1, 1, 3, 6, 7, 9, 4, 5, 3, 6, 3, 7, 4] 13 2\n",
      "[1, 1, 9, 6, 7, 7, 4, 5, 3, 6, 3, 3, 4] 13 1\n",
      "[1, 7, 9, 6, 6, 7, 4, 5, 3, 1, 3, 3, 4] 13 0\n"
     ]
    }
   ],
   "source": [
    "b = heapSort(a)"
   ]
  },
  {
   "cell_type": "code",
   "execution_count": 12,
   "id": "3ca2135e",
   "metadata": {},
   "outputs": [
    {
     "data": {
      "text/plain": [
       "[1, 1, 3, 3, 3, 4, 4, 5, 6, 6, 7, 7, 9]"
      ]
     },
     "execution_count": 12,
     "metadata": {},
     "output_type": "execute_result"
    }
   ],
   "source": [
    "a"
   ]
  },
  {
   "cell_type": "code",
   "execution_count": 11,
   "id": "492dd8f9",
   "metadata": {},
   "outputs": [
    {
     "name": "stdout",
     "output_type": "stream",
     "text": [
      "[1, 1, 3, 3, 3, 4, 4, 5, 6, 6, 7, 7, 9] 13 5\n",
      "[1, 1, 3, 3, 3, 9, 4, 5, 6, 6, 7, 7, 4] 13 4\n",
      "[1, 1, 3, 3, 7, 9, 4, 5, 6, 6, 3, 7, 4] 13 3\n",
      "[1, 1, 3, 6, 7, 9, 4, 5, 3, 6, 3, 7, 4] 13 2\n",
      "[1, 1, 9, 6, 7, 7, 4, 5, 3, 6, 3, 3, 4] 13 1\n",
      "[1, 7, 9, 6, 6, 7, 4, 5, 3, 1, 3, 3, 4] 13 0\n",
      "Sorted array is\n"
     ]
    },
    {
     "data": {
      "text/plain": [
       "[1, 1, 3, 3, 3, 4, 4, 5, 6, 6, 7, 7, 9]"
      ]
     },
     "execution_count": 11,
     "metadata": {},
     "output_type": "execute_result"
    }
   ],
   "source": [
    "# Driver code\n",
    "arr = a\n",
    "heapSort(arr)\n",
    "n = len(arr)\n",
    "print(\"Sorted array is\")    \n",
    "arr"
   ]
  },
  {
   "cell_type": "code",
   "execution_count": null,
   "id": "706991ed",
   "metadata": {},
   "outputs": [],
   "source": []
  },
  {
   "cell_type": "code",
   "execution_count": null,
   "id": "340d0703",
   "metadata": {},
   "outputs": [],
   "source": []
  }
 ],
 "metadata": {
  "kernelspec": {
   "display_name": "Python 3 (ipykernel)",
   "language": "python",
   "name": "python3"
  },
  "language_info": {
   "codemirror_mode": {
    "name": "ipython",
    "version": 3
   },
   "file_extension": ".py",
   "mimetype": "text/x-python",
   "name": "python",
   "nbconvert_exporter": "python",
   "pygments_lexer": "ipython3",
   "version": "3.9.7"
  }
 },
 "nbformat": 4,
 "nbformat_minor": 5
}
